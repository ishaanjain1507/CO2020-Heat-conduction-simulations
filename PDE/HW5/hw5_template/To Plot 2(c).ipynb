{
 "cells": [
  {
   "cell_type": "code",
   "execution_count": 6,
   "id": "98b89f65",
   "metadata": {},
   "outputs": [],
   "source": [
    "import matplotlib.pyplot as plt\n",
    "import numpy as np\n",
    "from math import log"
   ]
  },
  {
   "cell_type": "code",
   "execution_count": 29,
   "id": "564f2f07",
   "metadata": {},
   "outputs": [
    {
     "data": {
      "text/plain": [
       "array([-3.92922003, -3.24137709, -3.23737081, -3.23592026, -3.23515766,\n",
       "       -3.23470038, -3.23439564, -3.23416714, -3.23398946, -3.23386257,\n",
       "       -3.23376106, -3.23365957, -3.23358345, -3.23353271, -3.23348198,\n",
       "       -3.23343124, -3.23338051, -3.23335515, -3.23332978, -3.23330442])"
      ]
     },
     "execution_count": 29,
     "metadata": {},
     "output_type": "execute_result"
    }
   ],
   "source": [
    "a = np.array([[10 ,0.019659],\n",
    "[60 ,0.039110],\n",
    "[110, 0.039267],\n",
    "[160, 0.039324],\n",
    "[210, 0.039354],\n",
    "[260, 0.039372],\n",
    "[310, 0.039384],\n",
    "[360, 0.039393],\n",
    "[410, 0.039400],\n",
    "[460, 0.039405],\n",
    "[510, 0.039409],\n",
    "[560, 0.039413],\n",
    "[610, 0.039416],\n",
    "[660, 0.039418],\n",
    "[710, 0.039420],\n",
    "[760, 0.039422],\n",
    "[810, 0.039424],\n",
    "[860, 0.039425],\n",
    "[910, 0.039426],\n",
    "[960, 0.039427]])\n",
    "b = a.T\n",
    "x = np.array([log(i) for i in b[0]])\n",
    "y = np.array([log(i) for i in b[1]])\n",
    "y"
   ]
  },
  {
   "cell_type": "code",
   "execution_count": 40,
   "id": "5c1933cc",
   "metadata": {},
   "outputs": [
    {
     "data": {
      "text/plain": [
       "<matplotlib.legend.Legend at 0x7fa8a4bc3ac0>"
      ]
     },
     "execution_count": 40,
     "metadata": {},
     "output_type": "execute_result"
    },
    {
     "data": {
      "image/png": "[encoded data removed]",
      "text/plain": [
       "<Figure size 432x288 with 1 Axes>"
      ]
     },
     "metadata": {
      "needs_background": "light"
     },
     "output_type": "display_data"
    }
   ],
   "source": [
    "plt.plot(x, y, label = \"t = 1.25e-7\")\n",
    "plt.plot(x1, y1, label = \"t = 3.125e-6\")\n",
    "plt.xlabel(\"log(nx)\")\n",
    "plt.ylabel(\"log(norm of error)\")\n",
    "plt.legend()"
   ]
  },
  {
   "cell_type": "code",
   "execution_count": 33,
   "id": "61a2d5c5",
   "metadata": {},
   "outputs": [],
   "source": [
    "c = np.array([[10 ,0.019775   ],\n",
    "[60 ,0.039243],\n",
    "[110, 0.039401],\n",
    "[160, 0.039458],\n",
    "[210, 0.039488],\n",
    "[260, 0.039506],\n",
    "[310, 0.039518],\n",
    "[360, 28137744401398949493080064.000000],\n",
    "[410, 66708939848236516588647194570813422432754104344771015084464377872927298836913500535211386061357959627239633125686124132949549599529982521820600860672.000000]]\n",
    "            )"
   ]
  },
  {
   "cell_type": "code",
   "execution_count": 34,
   "id": "f30a57ce",
   "metadata": {},
   "outputs": [],
   "source": [
    "d = c.T"
   ]
  },
  {
   "cell_type": "code",
   "execution_count": 36,
   "id": "900aea92",
   "metadata": {},
   "outputs": [
    {
     "data": {
      "text/plain": [
       "array([ -3.92333677,  -3.23798219,  -3.23396408,  -3.23251846,\n",
       "        -3.23175845,  -3.23130272,  -3.23099901,  58.59915412,\n",
       "       342.68034764])"
      ]
     },
     "execution_count": 36,
     "metadata": {},
     "output_type": "execute_result"
    }
   ],
   "source": [
    "x1 = np.array([log(i) for i in d[0]])\n",
    "y1 = np.array([log(i) for i in d[1]])\n",
    "y1"
   ]
  },
  {
   "cell_type": "code",
   "execution_count": null,
   "id": "06eb6713",
   "metadata": {},
   "outputs": [],
   "source": []
  }
 ],
 "metadata": {
  "kernelspec": {
   "display_name": "Python 3 (ipykernel)",
   "language": "python",
   "name": "python3"
  },
  "language_info": {
   "codemirror_mode": {
    "name": "ipython",
    "version": 3
   },
   "file_extension": ".py",
   "mimetype": "text/x-python",
   "name": "python",
   "nbconvert_exporter": "python",
   "pygments_lexer": "ipython3",
   "version": "3.10.6"
  }
 },
 "nbformat": 4,
 "nbformat_minor": 5
}
