{
 "cells": [
  {
   "cell_type": "code",
   "execution_count": 3,
   "id": "22432ab5",
   "metadata": {},
   "outputs": [],
   "source": [
    "import numpy as np\n",
    "import matplotlib.pyplot as plt"
   ]
  },
  {
   "cell_type": "code",
   "execution_count": 175,
   "id": "719b9be5",
   "metadata": {},
   "outputs": [
    {
     "name": "stdout",
     "output_type": "stream",
     "text": [
      "[[-4.  2. -0. ... -0. -0.  0.]\n",
      " [ 1. -4.  1. ... -0. -0. -0.]\n",
      " [-0.  1. -4. ... -0. -0. -0.]\n",
      " ...\n",
      " [-0. -0. -0. ... -4.  1. -0.]\n",
      " [-0. -0. -0. ...  1. -4.  1.]\n",
      " [ 0. -0. -0. ... -0.  2. -4.]]\n",
      "[-300.         -300.         -300.         -300.         -300.\n",
      " -300.         -300.         -300.         -300.         -300.\n",
      " -300.            0.            0.            0.            0.\n",
      "    0.            0.            0.            0.            0.\n",
      "    0.            0.            0.            0.            0.\n",
      "    0.            0.            0.            0.            0.\n",
      "    0.            0.            0.            0.            0.\n",
      "    0.            0.            0.            0.            0.\n",
      "    0.            0.            0.            0.            0.\n",
      "    0.            0.            0.            0.            0.\n",
      "    0.            0.            0.            0.            0.\n",
      "    0.            0.            0.            0.            0.\n",
      "    0.            0.            0.            0.            0.\n",
      "    0.            0.            0.            0.            0.\n",
      "    0.            0.            0.            0.            0.\n",
      "    0.            0.            0.            0.            0.\n",
      "    0.            0.            0.            0.            0.\n",
      "    0.            0.            0.         -330.         -335.45454545\n",
      " -340.90909091 -346.36363636 -351.81818182 -357.27272727 -362.72727273\n",
      " -368.18181818 -373.63636364 -379.09090909 -384.54545455]\n"
     ]
    }
   ],
   "source": [
    "n = 11\n",
    "A = np.eye(n*n - 2*n)\n",
    "b = np.zeros(n*(n-2))\n",
    "A = -4*A\n",
    "\n",
    "T0 = 300\n",
    "for i in range(n*(n-2)-1):\n",
    "    A[i][i+1] = 1\n",
    "    A[i+1][i] = 1\n",
    "\n",
    "for i in range(n*(n-2)-n):\n",
    "    A[i][i + n] = 1\n",
    "    A[i+n][i] = 1\n",
    "\n",
    "for i in range(n-2):\n",
    "    A[i*n][i*n-1] = 0\n",
    "    A[i*n][i*n+1] = 2\n",
    "    A[(i)*n-1][(i)*n-2] = 2\n",
    "    A[(i)*n-1][(i)*n] = 0\n",
    "    \n",
    "b[:n] = -T0\n",
    "for i in range(n):\n",
    "    b[n*(n-2)-n+i] = -T0*(1+0.2*(i/n + 0.5))\n",
    "print(A)\n",
    "print(b.T)"
   ]
  },
  {
   "cell_type": "code",
   "execution_count": 176,
   "id": "ce76a3c7",
   "metadata": {},
   "outputs": [
    {
     "name": "stdout",
     "output_type": "stream",
     "text": [
      "[[-4.  2. -0. ... -0. -0.  0.]\n",
      " [ 1. -4.  1. ... -0. -0. -0.]\n",
      " [-0.  1. -4. ... -0. -0. -0.]\n",
      " ...\n",
      " [-0. -0. -0. ... -4.  1. -0.]\n",
      " [-0. -0. -0. ...  1. -4.  1.]\n",
      " [ 0. -0. -0. ... -0.  2. -4.]]\n"
     ]
    }
   ],
   "source": [
    "print(A)"
   ]
  },
  {
   "cell_type": "code",
   "execution_count": 177,
   "id": "4a68299e",
   "metadata": {},
   "outputs": [
    {
     "data": {
      "text/plain": [
       "array([305.09941806, 305.13044584, 305.22023614, 305.35946517,\n",
       "       305.53414545, 305.72727273, 305.92040001, 306.09508028,\n",
       "       306.23430932, 306.32409962, 306.35512739, 310.13678057,\n",
       "       310.20212915, 310.39103354, 310.68347911, 311.04984388,\n",
       "       311.45454545, 311.85924702, 312.2256118 , 312.51805737,\n",
       "       312.70696176, 312.77231034, 315.04344592, 315.15025664,\n",
       "       315.45828975, 315.93357385, 316.52720553, 317.18181818,\n",
       "       317.83643084, 318.43006251, 318.90534661, 319.21337972,\n",
       "       319.32019044, 319.73648982, 319.89716176, 320.35829496,\n",
       "       321.06532103, 321.94358618, 322.90909091, 323.87459563,\n",
       "       324.75286079, 325.45988685, 325.92102005, 326.081692  ,\n",
       "       324.10818982, 324.34360563, 325.01240732, 326.0258291 ,\n",
       "       327.27272727, 328.63636364, 330.        , 331.24689817,\n",
       "       332.26031995, 332.92912164, 333.16453745, 328.00905822,\n",
       "       328.35666362, 329.32189957, 330.75286079, 332.48513017,\n",
       "       334.36363636, 336.24214256, 337.97441193, 339.40537315,\n",
       "       340.37060911, 340.71821451, 331.21471581, 331.75209105,\n",
       "       333.16566657, 335.17858432, 337.55129625, 340.09090909,\n",
       "       342.63052193, 345.00323386, 347.01615161, 348.42972713,\n",
       "       348.96710237, 333.34562292, 334.2713182 , 336.41009133,\n",
       "       339.24451369, 342.4505614 , 345.81818182, 349.18580223,\n",
       "       352.39184995, 355.22627231, 357.36504544, 358.29074071,\n",
       "       333.62513948, 335.5774675 , 338.95886686, 342.93881769,\n",
       "       347.18825387, 351.54545455, 355.90265523, 360.1520914 ,\n",
       "       364.13204223, 367.51344159, 369.46576961])"
      ]
     },
     "execution_count": 177,
     "metadata": {},
     "output_type": "execute_result"
    }
   ],
   "source": [
    "T = np.linalg.solve(A, b)\n",
    "T"
   ]
  },
  {
   "cell_type": "code",
   "execution_count": 178,
   "id": "0098a6ed",
   "metadata": {},
   "outputs": [
    {
     "name": "stdout",
     "output_type": "stream",
     "text": [
      "[[305.09941806 305.13044584 305.22023614 305.35946517 305.53414545\n",
      "  305.72727273 305.92040001 306.09508028 306.23430932 306.32409962\n",
      "  306.35512739]\n",
      " [310.13678057 310.20212915 310.39103354 310.68347911 311.04984388\n",
      "  311.45454545 311.85924702 312.2256118  312.51805737 312.70696176\n",
      "  312.77231034]\n",
      " [315.04344592 315.15025664 315.45828975 315.93357385 316.52720553\n",
      "  317.18181818 317.83643084 318.43006251 318.90534661 319.21337972\n",
      "  319.32019044]\n",
      " [319.73648982 319.89716176 320.35829496 321.06532103 321.94358618\n",
      "  322.90909091 323.87459563 324.75286079 325.45988685 325.92102005\n",
      "  326.081692  ]\n",
      " [324.10818982 324.34360563 325.01240732 326.0258291  327.27272727\n",
      "  328.63636364 330.         331.24689817 332.26031995 332.92912164\n",
      "  333.16453745]\n",
      " [328.00905822 328.35666362 329.32189957 330.75286079 332.48513017\n",
      "  334.36363636 336.24214256 337.97441193 339.40537315 340.37060911\n",
      "  340.71821451]\n",
      " [331.21471581 331.75209105 333.16566657 335.17858432 337.55129625\n",
      "  340.09090909 342.63052193 345.00323386 347.01615161 348.42972713\n",
      "  348.96710237]\n",
      " [333.34562292 334.2713182  336.41009133 339.24451369 342.4505614\n",
      "  345.81818182 349.18580223 352.39184995 355.22627231 357.36504544\n",
      "  358.29074071]\n",
      " [333.62513948 335.5774675  338.95886686 342.93881769 347.18825387\n",
      "  351.54545455 355.90265523 360.1520914  364.13204223 367.51344159\n",
      "  369.46576961]]\n"
     ]
    }
   ],
   "source": [
    "Tnew = T.reshape((n-2,n))\n",
    "print(Tnew)"
   ]
  },
  {
   "cell_type": "code",
   "execution_count": 197,
   "id": "8db21bfa",
   "metadata": {},
   "outputs": [
    {
     "name": "stdout",
     "output_type": "stream",
     "text": [
      "[0.  0.1 0.2 0.3 0.4 0.5 0.6 0.7 0.8 0.9 1. ] [0.  0.1 0.2 0.3 0.4 0.5 0.6 0.7 0.8 0.9 1. ]\n"
     ]
    },
    {
     "data": {
      "text/plain": [
       "array([[300.        , 305.13044584, 310.20212915, 315.15025664,\n",
       "        319.89716176, 324.34360563, 328.35666362, 331.75209105,\n",
       "        334.2713182 , 335.5774675 , 335.45454545],\n",
       "       [300.        , 305.72727273, 311.45454545, 317.18181818,\n",
       "        322.90909091, 328.63636364, 334.36363636, 340.09090909,\n",
       "        345.81818182, 351.54545455, 357.27272727],\n",
       "       [300.        , 306.32409962, 312.70696176, 319.21337972,\n",
       "        325.92102005, 332.92912164, 340.37060911, 348.42972713,\n",
       "        357.36504544, 367.51344159, 379.09090909]])"
      ]
     },
     "execution_count": 197,
     "metadata": {},
     "output_type": "execute_result"
    }
   ],
   "source": [
    "x = np.linspace(0,1, n)\n",
    "y = np.linspace(0,0.5, n)\n",
    "T1 = T0*np.ones(n)\n",
    "T2 = -b[n*(n-2)-n:]\n",
    "T4 = T1.reshape((n,1))\n",
    "T3 = T2.reshape((n,1))\n",
    "Tnew2 = np.hstack((T4, Tnew.T))\n",
    "Tnew3 = np.hstack((Tnew2, T3))\n",
    "print(x, y/0.5)\n",
    "T_1 = np.array([Tnew3[:,1], Tnew3[:,3], Tnew3[:,5], Tnew3[:,7], Tnew3[:,9]])\n",
    "T_2 = np.array([Tnew3[1,:], Tnew3[5,:], Tnew3[9,:]])\n",
    "T_2"
   ]
  },
  {
   "cell_type": "code",
   "execution_count": 180,
   "id": "e5d1bd4a",
   "metadata": {},
   "outputs": [
    {
     "name": "stdout",
     "output_type": "stream",
     "text": [
      "(11, 11)\n"
     ]
    },
    {
     "data": {
      "image/png": "[encoded data removed]",
      "text/plain": [
       "<Figure size 432x288 with 2 Axes>"
      ]
     },
     "metadata": {
      "needs_background": "light"
     },
     "output_type": "display_data"
    }
   ],
   "source": [
    "print(Tnew3.shape)\n",
    "plt.contourf(x, y, Tnew3)\n",
    "plt.colorbar()\n",
    "plt.xlabel(\"x(m)\")\n",
    "plt.ylabel(\"y(m)\")\n",
    "plt.title(\"Variation of temperature in K on a*b sheet\")\n",
    "plt.savefig(\"q4.png\")"
   ]
  },
  {
   "cell_type": "code",
   "execution_count": 201,
   "id": "8bdfdfd3",
   "metadata": {},
   "outputs": [
    {
     "data": {
      "image/png": "[encoded data removed]",
      "text/plain": [
       "<Figure size 432x288 with 1 Axes>"
      ]
     },
     "metadata": {
      "needs_background": "light"
     },
     "output_type": "display_data"
    }
   ],
   "source": [
    "plt.plot(y, T_1[0], label = 'x/a = 0.1')\n",
    "plt.plot(y, T_1[1], label = 'x/a = 0.3')\n",
    "plt.plot(y, T_1[2], label = 'x/a = 0.5')\n",
    "plt.plot(y, T_1[3], label = 'x/a = 0.7')\n",
    "plt.plot(y, T_1[4], label = 'x/a = 0.9')\n",
    "plt.legend()\n",
    "plt.title(\"Variation of T with y\")\n",
    "plt.xlabel(\"y\")\n",
    "plt.ylabel(\"T\")\n",
    "plt.grid(True)\n",
    "plt.savefig('T vs y')"
   ]
  },
  {
   "cell_type": "code",
   "execution_count": 202,
   "id": "c468a7cf",
   "metadata": {},
   "outputs": [
    {
     "data": {
      "image/png": "[encoded data removed]",
      "text/plain": [
       "<Figure size 432x288 with 1 Axes>"
      ]
     },
     "metadata": {
      "needs_background": "light"
     },
     "output_type": "display_data"
    }
   ],
   "source": [
    "plt.plot(x, T_2[0], label = 'y/b = 0.1')\n",
    "plt.plot(x, T_2[1], label = 'y/b = 0.5')\n",
    "plt.plot(x, T_2[2], label = 'y/b = 0.9')\n",
    "# plt.plot(y, T_1[3], label = 'x/a = 0.7')\n",
    "# plt.plot(y, T_1[4], label = 'x/a = 0.9')\n",
    "plt.legend()\n",
    "plt.title(\"Variation of T with x\")\n",
    "plt.xlabel(\"x\")\n",
    "plt.ylabel(\"T\")\n",
    "plt.grid(True)\n",
    "plt.savefig('T vs x')\n"
   ]
  },
  {
   "cell_type": "code",
   "execution_count": null,
   "id": "79bad3be",
   "metadata": {},
   "outputs": [],
   "source": []
  }
 ],
 "metadata": {
  "kernelspec": {
   "display_name": "Python 3 (ipykernel)",
   "language": "python",
   "name": "python3"
  },
  "language_info": {
   "codemirror_mode": {
    "name": "ipython",
    "version": 3
   },
   "file_extension": ".py",
   "mimetype": "text/x-python",
   "name": "python",
   "nbconvert_exporter": "python",
   "pygments_lexer": "ipython3",
   "version": "3.10.6"
  }
 },
 "nbformat": 4,
 "nbformat_minor": 5
}
